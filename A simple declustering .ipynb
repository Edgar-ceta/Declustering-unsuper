{
 "cells": [
  {
   "cell_type": "code",
   "execution_count": null,
   "id": "6ffce487-29c2-46f0-8ec9-5b80c3afa910",
   "metadata": {},
   "outputs": [],
   "source": [
    "import numpy as np\n",
    "import pandas as pd\n",
    "from sklearn.cluster import KMeans\n",
    "import matplotlib.pyplot as plt\n",
    "\n",
    "# Example drill hole data (UTM-East, UTM-North, Elevation, Gold Grade, Lithology Code)\n",
    "data = np.array([\n",
    "    [100, 200, 10, 1.5, 1],\n",
    "    [150, 250, 15, 2.0, 1],\n",
    "    [200, 300, 20, 1.8, 2],\n",
    "    [250, 350, 25, 2.2, 2],\n",
    "    [300, 400, 30, 1.9, 1],\n",
    "    [350, 450, 35, 2.1, 1],\n",
    "    [400, 500, 40, 1.7, 2],\n",
    "    [450, 550, 45, 2.3, 2],\n",
    "    [500, 600, 50, 1.6, 1],\n",
    "    [550, 650, 55, 2.4, 1]\n",
    "])\n",
    "\n",
    "# Convert to DataFrame\n",
    "df = pd.DataFrame(data, columns=[\"UTM-East\", \"UTM-North\", \"Elevation\", \"Gold Grade\", \"Lithology\"])\n",
    "\n",
    "# Features for clustering (Gold Grade and Lithology)\n",
    "X = df[[\"Gold Grade\", \"Lithology\"]]\n",
    "\n",
    "# Perform k-means clustering\n",
    "kmeans = KMeans(n_clusters=2, random_state=42)  # Assume 2 domains\n",
    "df[\"Domain\"] = kmeans.fit_predict(X)\n",
    "\n",
    "# Plot the results\n",
    "plt.figure(figsize=(8, 6))\n",
    "plt.scatter(df[\"UTM-East\"], df[\"UTM-North\"], c=df[\"Domain\"], cmap=\"viridis\", s=100)\n",
    "plt.colorbar(label=\"Domain\")\n",
    "plt.xlabel(\"UTM-East (m)\")\n",
    "plt.ylabel(\"UTM-North (m)\")\n",
    "plt.title(\"Domain Boundary Delimitation using K-Means Clustering\")\n",
    "plt.show()"
   ]
  },
  {
   "cell_type": "code",
   "execution_count": null,
   "id": "1e9baab6-53d0-44e7-81cd-79e9299ae10d",
   "metadata": {},
   "outputs": [],
   "source": []
  }
 ],
 "metadata": {
  "kernelspec": {
   "display_name": "Python 3 (ipykernel)",
   "language": "python",
   "name": "python3"
  },
  "language_info": {
   "codemirror_mode": {
    "name": "ipython",
    "version": 3
   },
   "file_extension": ".py",
   "mimetype": "text/x-python",
   "name": "python",
   "nbconvert_exporter": "python",
   "pygments_lexer": "ipython3",
   "version": "3.12.7"
  }
 },
 "nbformat": 4,
 "nbformat_minor": 5
}
